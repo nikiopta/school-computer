{
  "nbformat": 4,
  "nbformat_minor": 0,
  "metadata": {
    "colab": {
      "provenance": [],
      "authorship_tag": "ABX9TyOpcS+4GE9IWiVMkIPG4wxE",
      "include_colab_link": true
    },
    "kernelspec": {
      "name": "python3",
      "display_name": "Python 3"
    },
    "language_info": {
      "name": "python"
    }
  },
  "cells": [
    {
      "cell_type": "markdown",
      "metadata": {
        "id": "view-in-github",
        "colab_type": "text"
      },
      "source": [
        "<a href=\"https://colab.research.google.com/github/nikiopta/school-computer/blob/main/TimiGayAF.ipynb\" target=\"_parent\"><img src=\"https://colab.research.google.com/assets/colab-badge.svg\" alt=\"Open In Colab\"/></a>"
      ]
    },
    {
      "cell_type": "markdown",
      "source": [
        "lesson 1:"
      ],
      "metadata": {
        "id": "DSPZc4GLtssA"
      }
    },
    {
      "cell_type": "code",
      "source": [
        "#q 1\n",
        "t = 0\n",
        "for i in range (1,6):\n",
        "   t += 1\n",
        "   print(t, end = ' ')"
      ],
      "metadata": {
        "colab": {
          "base_uri": "https://localhost:8080/"
        },
        "id": "iEWr9gr6wEwo",
        "outputId": "98c8a072-3b3a-4946-9c0f-6a22825fd091"
      },
      "execution_count": null,
      "outputs": [
        {
          "output_type": "stream",
          "name": "stdout",
          "text": [
            "1 2 3 4 5 "
          ]
        }
      ]
    },
    {
      "cell_type": "code",
      "source": [
        "#q 2\n",
        "n= int(input(\"n = ?\"))\n",
        "for k in range(n+1):\n",
        "  print(k, k**2)"
      ],
      "metadata": {
        "colab": {
          "base_uri": "https://localhost:8080/"
        },
        "id": "QC4oIql8v9oO",
        "outputId": "0d9dcbd8-be93-433b-e317-223f03bb4e75"
      },
      "execution_count": null,
      "outputs": [
        {
          "output_type": "stream",
          "name": "stdout",
          "text": [
            "n = ?5\n",
            "0 0\n",
            "1 1\n",
            "2 4\n",
            "3 9\n",
            "4 16\n",
            "5 25\n"
          ]
        }
      ]
    },
    {
      "cell_type": "code",
      "source": [
        "#q 3\n",
        "\n",
        "n = int(input(' n = ?'))\n",
        "while n != 0:\n",
        "  print (\"*\" * n)\n",
        "  n -= 1"
      ],
      "metadata": {
        "colab": {
          "base_uri": "https://localhost:8080/"
        },
        "id": "FTmK__1itrJ4",
        "outputId": "50174f80-680d-4650-e7db-94b556d88538"
      },
      "execution_count": null,
      "outputs": [
        {
          "output_type": "stream",
          "name": "stdout",
          "text": [
            " n = ?5\n",
            "*****\n",
            "****\n",
            "***\n",
            "**\n",
            "*\n"
          ]
        }
      ]
    },
    {
      "cell_type": "code",
      "source": [
        "#q 4\n",
        "n = int(input(' n = ?'))\n",
        "for i in range(1, 11):\n",
        "  print (n ,\"X\", i, end =  \" = \")\n",
        "  print(n * i)"
      ],
      "metadata": {
        "colab": {
          "base_uri": "https://localhost:8080/"
        },
        "id": "FX-53mFauKFg",
        "outputId": "45aa38dc-f6b4-4d24-8bd5-b7f0c95ed0b1"
      },
      "execution_count": null,
      "outputs": [
        {
          "output_type": "stream",
          "name": "stdout",
          "text": [
            " n = ?5\n",
            "5 X 1 = 5\n",
            "5 X 2 = 10\n",
            "5 X 3 = 15\n",
            "5 X 4 = 20\n",
            "5 X 5 = 25\n",
            "5 X 6 = 30\n",
            "5 X 7 = 35\n",
            "5 X 8 = 40\n",
            "5 X 9 = 45\n",
            "5 X 10 = 50\n"
          ]
        }
      ]
    },
    {
      "cell_type": "code",
      "source": [
        "#q 5\n",
        "n = int(input(' n = ?'))\n",
        "prod = 1\n",
        "for i in range(1, n+1):\n",
        "  prod *= i\n",
        "print(\"The factorial is\", prod)\n"
      ],
      "metadata": {
        "colab": {
          "base_uri": "https://localhost:8080/"
        },
        "id": "XudVPCSlwN-v",
        "outputId": "4c81f7bb-646a-4c2c-9761-da285f83141f"
      },
      "execution_count": null,
      "outputs": [
        {
          "output_type": "stream",
          "name": "stdout",
          "text": [
            " n = ?5\n",
            "The factorial is 120\n"
          ]
        }
      ]
    },
    {
      "cell_type": "markdown",
      "source": [
        "leson 2:"
      ],
      "metadata": {
        "id": "xfy_51vX75Rr"
      }
    },
    {
      "cell_type": "code",
      "source": [
        "#q 1\n",
        "import time\n",
        "def i_want_to_kill_my_self(n):\n",
        "  f1 = 1\n",
        "  f2 = 1\n",
        "  for i in range (n):\n",
        "      print (f1, end= ' ')\n",
        "      f1, f2 = f2, f1 + f2\n",
        "n = input(\"n = \")\n",
        "while not n.isdigit():\n",
        "  print(\"it need to be a int\")\n",
        "  n = input(\"n = \")\n",
        "else:\n",
        "  n = int(n)\n",
        "  i_want_to_kill_my_self(n)"
      ],
      "metadata": {
        "colab": {
          "base_uri": "https://localhost:8080/"
        },
        "id": "cj9cN5yC7_B5",
        "outputId": "2979cfba-5ae5-48c3-ea3c-2d633f4c6298"
      },
      "execution_count": null,
      "outputs": [
        {
          "output_type": "stream",
          "name": "stdout",
          "text": [
            "n = 5\n",
            "1 1 2 3 5 "
          ]
        }
      ]
    },
    {
      "cell_type": "code",
      "source": [
        "#q 2\n",
        "n = int(input(\"n = \"))\n",
        "p = 1\n",
        "for i in range(1, n + 1):\n",
        "  p *= i\n",
        "print(p)"
      ],
      "metadata": {
        "colab": {
          "base_uri": "https://localhost:8080/"
        },
        "id": "QnISQm57ChyM",
        "outputId": "da2abaaa-c994-4253-b3ef-41d718788aad"
      },
      "execution_count": null,
      "outputs": [
        {
          "output_type": "stream",
          "name": "stdout",
          "text": [
            "n = 5\n",
            "120\n"
          ]
        }
      ]
    },
    {
      "cell_type": "markdown",
      "source": [],
      "metadata": {
        "id": "AhFKkRueBz5U"
      }
    },
    {
      "cell_type": "code",
      "source": [
        "#q 4\n",
        "n = int(input(\"n = \"))\n",
        "res = 0\n",
        "for i in range(1 ,n+1):\n",
        "  if i % 2 == 0:\n",
        "    res -= i\n",
        "  else:\n",
        "    res += i\n",
        "print(res)"
      ],
      "metadata": {
        "colab": {
          "base_uri": "https://localhost:8080/"
        },
        "id": "cawFoeKSKAEX",
        "outputId": "ff35853e-7b5f-488d-a2f4-93cb5e317fc0"
      },
      "execution_count": null,
      "outputs": [
        {
          "output_type": "stream",
          "name": "stdout",
          "text": [
            "n = 5\n",
            "3\n"
          ]
        }
      ]
    },
    {
      "cell_type": "code",
      "source": [
        "#q 3\n",
        "n = int(input(\"n = \"))\n",
        "res = 0\n",
        "for i in range(1 ,n+1):\n",
        "    if n % i == 0:\n",
        "      res += i\n",
        "print(res)"
      ],
      "metadata": {
        "colab": {
          "base_uri": "https://localhost:8080/"
        },
        "id": "CSKh_2hQGMIx",
        "outputId": "fbbaaf89-cb6a-494a-8d90-0fc871a67c79"
      },
      "execution_count": null,
      "outputs": [
        {
          "output_type": "stream",
          "name": "stdout",
          "text": [
            "n = 5\n",
            "6\n"
          ]
        }
      ]
    },
    {
      "cell_type": "markdown",
      "source": [
        "lesoon 3:"
      ],
      "metadata": {
        "id": "HUIVY9zqB4n_"
      }
    },
    {
      "cell_type": "code",
      "source": [
        "#q 1\n"
      ],
      "metadata": {
        "id": "udPZxcM3B7np"
      },
      "execution_count": null,
      "outputs": []
    }
  ]
}